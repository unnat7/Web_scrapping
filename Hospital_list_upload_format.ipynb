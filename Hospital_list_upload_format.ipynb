import pandas as pd
from selenium import webdriver
from selenium.webdriver.common.keys import Keys
from selenium.webdriver.common.action_chains import ActionChains
from selenium.webdriver.chrome.service import Service
from bs4 import BeautifulSoup
import time
import requests
import json

#reading the csv file with the urls
urls = pd.read_csv('urls_18330.csv')

#In case you want to remove duplicates
"""
urls_no_duplicates = urls.drop_duplicates()
dfxx_no_duplicates.shape #to check the shape of the file
"""

#getting the data in the required format
clinics_data = []
iterate = 0

for url in urls['URL']:
    try:

        clinic = {}
        print("iterate = ", iterate)
        print(url)
        # Send a GET request to the website
        response = requests.get(url)
        response.raise_for_status()  # Check if the request was successful

        # Parse the HTML content of the page
        soup = BeautifulSoup(response.content, 'html.parser')

        # Locate the div with class "o-page-container"
        page_container = soup.find('div', class_='o-page-container')

        # Find the first script tag containing JSON data
        script_tag = page_container.find_all('script', type='application/ld+json')
        print(1)
        len_s_tag = len(script_tag)-1
        
        try:
            clinic['Hospital Name']=json.loads(script_tag[len_s_tag].string.strip())[0].get('name')
        except IndexError:
            clinic['Hospital Name'] = None

        try:    
            clinic['City Name']=json.loads(script_tag[len_s_tag].string.strip())[0].get('address').get("addressRegion")
        except IndexError:
            clinic['City Name'] = None    

        try:
            clinic['Locality Name']=json.loads(script_tag[len_s_tag].string.strip())[0].get('address').get("addressLocality")
        except IndexError:
            clinic['Locality Name'] = None   

        try:
            clinic['Number of Beds'] = 0
        except IndexError:
            clinic['Number of Beds'] = None

        try:
            clinic['Timing'] = json.loads(script_tag[len_s_tag].string.strip())[0].get('openingHours')
        except IndexError:
            clinic['Timing'] = None

        try:    
            clinic['Address'] = soup.find('p', class_='c-profile--clinic__address').text.strip()
        except IndexError:
            clinic['Address'] = None

        try:    
            clinic['Overview']=json.loads(script_tag[len_s_tag].string.strip())[0].get('description')
        except IndexError:
            clinic['Overview'] = None

        try:    
            clinic['About']= 'NA' 
        except IndexError:
            clinic['About'] = None

        try:
            clinic['Image']=json.loads(script_tag[len_s_tag].string.strip())[0].get('logo')
        except IndexError:
            clinic['Image'] = None

        try:    
            clinic['Treatments'] = json.loads(script_tag[len_s_tag].string.strip())[0].get('availableService').get("name")
        except IndexError:
            clinic['Treatments'] = None
        ## FAQs 
        if(len(script_tag) == 3):
            try:
                clinic['FAQ1 Title'] = json.loads(script_tag[0].string.strip()).get('mainEntity')[0].get('name')
            except IndexError:
                clinic['FAQ1 Title'] = None

            try:
                clinic['FAQ1 Description'] = json.loads(script_tag[0].string.strip()).get('mainEntity')[0].get('acceptedAnswer').get('text')
            except IndexError:
                clinic['FAQ1 Description'] = None

            try:    
                clinic['FAQ2 Title'] = json.loads(script_tag[0].string.strip()).get('mainEntity')[1].get('name')
            except IndexError:
                clinic['FAQ2 Title'] = None

            try:    
                clinic['FAQ2 Description'] = json.loads(script_tag[0].string.strip()).get('mainEntity')[1].get('acceptedAnswer').get('text')
            except IndexError:
                clinic['FAQ2 Description'] = None

            try:    
                clinic['FAQ3 Title'] = json.loads(script_tag[0].string.strip()).get('mainEntity')[2].get('name')
            except IndexError:
                clinic['FAQ3 Title'] = None

            try:    
                clinic['FAQ3 Description'] = json.loads(script_tag[0].string.strip()).get('mainEntity')[2].get('acceptedAnswer').get('text')
            except IndexError:
                clinic['FAQ3 Description'] = None

            try:    
                clinic['FAQ4 Title'] = json.loads(script_tag[0].string.strip()).get('mainEntity')[3].get('name')
            except IndexError:
                clinic['FAQ4 Title'] = None

            try:    
                clinic['FAQ4 Description'] = json.loads(script_tag[0].string.strip()).get('mainEntity')[3].get('acceptedAnswer').get('text')
            except IndexError:
                clinic['FAQ4 Description'] = None

            try:    
                clinic['FAQ5 Title'] = json.loads(script_tag[0].string.strip()).get('mainEntity')[4].get('name')
            except IndexError:
                clinic['FAQ5 Title'] = None

            try:    
                clinic['FAQ5 Description'] = json.loads(script_tag[0].string.strip()).get('mainEntity')[4].get('acceptedAnswer').get('text')
            except IndexError:
                clinic['FAQ5 Description'] = None

            try:    
                clinic['FAQ6 Title'] = json.loads(script_tag[0].string.strip()).get('mainEntity')[5].get('name')
            except IndexError:
                clinic['FAQ6 Title'] = None

            try:    
                clinic['FAQ6 Description'] = json.loads(script_tag[0].string.strip()).get('mainEntity')[5].get('acceptedAnswer').get('text')
            except IndexError:
                clinic['FAQ6 Description'] = None

            try:
                clinic['FAQ7 Title'] = json.loads(script_tag[0].string.strip()).get('mainEntity')[6].get('name')
            except IndexError:
                clinic['FAQ7 Title'] = None

            try:
                clinic['FAQ7 Description'] = json.loads(script_tag[0].string.strip()).get('mainEntity')[6].get('acceptedAnswer').get('text')
            except IndexError:
                clinic['FAQ7 Description'] = None

            try:
                clinic['FAQ8 Title'] = json.loads(script_tag[0].string.strip()).get('mainEntity')[7].get('name')
            except IndexError:
                clinic['FAQ8 Title'] = None

            try:
                clinic['FAQ8 Description'] = json.loads(script_tag[0].string.strip()).get('mainEntity')[7].get('acceptedAnswer').get('text')
            except IndexError:
                clinic['FAQ8 Description'] = None

            try:
                clinic['FAQ9 Title'] = json.loads(script_tag[0].string.strip()).get('mainEntity')[8].get('name')
            except IndexError:
                clinic['FAQ9 Title'] = None

            try:
                clinic['FAQ9 Description'] = json.loads(script_tag[0].string.strip()).get('mainEntity')[8].get('acceptedAnswer').get('text')
            except IndexError:
                clinic['FAQ9 Description'] = None

            try:
                clinic['FAQ10 Title'] = json.loads(script_tag[0].string.strip()).get('mainEntity')[9].get('name')
            except IndexError:
                clinic['FAQ10 Title'] = None

            try:
                clinic['FAQ10 Description'] = json.loads(script_tag[0].string.strip()).get('mainEntity')[9].get('acceptedAnswer').get('text')
            except IndexError:
                clinic['FAQ10 Description'] = None
        
        else:
            clinic['FAQ1 Title'] = None
            clinic['FAQ1 Description'] = None
            clinic['FAQ2 Title'] = None
            clinic['FAQ2 Description'] = None
            clinic['FAQ3 Title'] = None
            clinic['FAQ3 Description'] = None
            clinic['FAQ4 Title'] = None
            clinic['FAQ4 Description'] = None
            clinic['FAQ5 Title'] = None
            clinic['FAQ5 Description'] = None
            clinic['FAQ6 Title'] = None
            clinic['FAQ6 Description'] = None
            clinic['FAQ7 Title'] = None
            clinic['FAQ7 Description'] = None
            clinic['FAQ8 Title'] = None
            clinic['FAQ8 Description'] = None
            clinic['FAQ9 Title'] = None
            clinic['FAQ9 Description'] = None
            clinic['FAQ10 Title'] = None
            clinic['FAQ10 Description'] = None

        ## Keywords
        clinic['Additional Information']= 'NA'
        clinic['Facilities']= 'NA' 
        
        try:
            clinic['Fee']=json.loads(script_tag[len_s_tag].string.strip())[0].get('priceRange')
        except IndexError:
            clinic['Fee'] = None
        
        try:
            clinic['Hospital Type']=json.loads(script_tag[len_s_tag].string.strip())[0].get('medicalSpecialty')
        except IndexError:
            clinic['Hospital Type'] = None
        
        ##Extras
        
        try:
            clinic['TimingSpecifications']=json.loads(script_tag[len_s_tag].string.strip())[0].get('openingHoursSpecification')
        except IndexError:
            clinic['TimingSpecifications'] = None
        
        try:
            clinic['latitude']=json.loads(script_tag[len_s_tag].string.strip())[0].get('geo').get("latitude")
        except IndexError:
            clinic['latitude'] = None
        
        try:
            clinic['longitude']=json.loads(script_tag[len_s_tag].string.strip())[0].get('geo').get("longitude")
        except IndexError:
            clinic['longitude'] = None
            
        try:
            clinic['hasMap']=json.loads(script_tag[len_s_tag].string.strip())[0].get('hasMap').get("url")
        except IndexError:
            clinic['hasMap'] = None
        
        clinic['url'] = url
        print(2)
        iterate += 1
        clinics_data.append(clinic)
    except:
        pass
    
df = pd.DataFrame(clinics_data)

# Convert the DataFrame to a CSV file
csv_file_path = 'final_data_18330.csv'  # Specify the file name and path
df.to_csv(csv_file_path, index=False)  # Set index=False to exclude row numbers

df
